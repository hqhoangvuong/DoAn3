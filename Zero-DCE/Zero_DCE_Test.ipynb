{
 "cells": [
  {
   "cell_type": "code",
   "execution_count": 2,
   "metadata": {},
   "outputs": [
    {
     "name": "stdout",
     "output_type": "stream",
     "text": [
      "data/result/20201116_152115.jpg\n"
     ]
    },
    {
     "name": "stderr",
     "output_type": "stream",
     "text": [
      "/usr/local/lib/python3.6/dist-packages/torch/nn/functional.py:1339: UserWarning: nn.functional.tanh is deprecated. Use torch.tanh instead.\n",
      "  warnings.warn(\"nn.functional.tanh is deprecated. Use torch.tanh instead.\")\n"
     ]
    },
    {
     "name": "stdout",
     "output_type": "stream",
     "text": [
      "0.01993560791015625\n",
      "data/result/20201116_152108.jpg\n",
      "0.001508951187133789\n",
      "data/test_data/20201116_152115.jpg\n",
      "0.0015392303466796875\n",
      "data/test_data/20201116_152108.jpg\n",
      "0.0017809867858886719\n"
     ]
    }
   ],
   "source": [
    "import torch\n",
    "import torch.nn as nn\n",
    "import torchvision\n",
    "import torch.backends.cudnn as cudnn\n",
    "import torch.optim\n",
    "import os\n",
    "import sys\n",
    "import argparse\n",
    "import time\n",
    "import dataloader\n",
    "import model\n",
    "import numpy as np\n",
    "from torchvision import transforms\n",
    "from PIL import Image\n",
    "import glob\n",
    "import time\n",
    "\n",
    "def lowlight(image_path):\n",
    "    os.environ['CUDA_VISIBLE_DEVICES']='0'\n",
    "    data_lowlight = Image.open(image_path)\n",
    "    # print(np.asarray(data_lowlight))\n",
    "    # print('\\n')\n",
    "    \n",
    "    # Scaling dữ liệu các điểm ảnh về giá trị x với 0<= x <= 1\n",
    "    data_lowlight = (np.asarray(data_lowlight)/255.0)\n",
    "    # print('Scaling')\n",
    "    # print(data_lowlight)\n",
    "    # print('\\n')\n",
    "    \n",
    "    # Tạo ra một tensor từ numpy array\n",
    "    data_lowlight = torch.from_numpy(data_lowlight).float()\n",
    "    # print(data_lowlight)\n",
    "    # print('\\n')\n",
    "    \n",
    "    # Áp dụng phép quay ma trận lên tensor data_lowlight\n",
    "    data_lowlight = data_lowlight.permute(2,0,1)\n",
    "    # print(data_lowlight)\n",
    "    # print('\\n')\n",
    "    \n",
    "    data_lowlight = data_lowlight.cuda().unsqueeze(0)\n",
    "    DCE_net = model.enhance_net_nopool().cuda()\n",
    "    DCE_net.load_state_dict(torch.load('snapshots/Epoch99.pth'))\n",
    "    start = time.time()\n",
    "    _,enhanced_image,_ = DCE_net(data_lowlight)\n",
    "    \n",
    "    end_time = (time.time() - start)\n",
    "    print(end_time)\n",
    "    \n",
    "    image_path = image_path.replace('test_data','result')\n",
    "    result_path = image_path\n",
    "    # if not os.path.exists(image_path.replace('/'+image_path.split(\"/\")[-1],'')):\n",
    "    #    os.makedirs(image_path.replace('/'+image_path.split(\"/\")[-1],''))\n",
    "        \n",
    "    torchvision.utils.save_image(enhanced_image, result_path)\n",
    "\n",
    "if __name__ == '__main__':\n",
    "# test_images\n",
    "    with torch.no_grad():\n",
    "        filePath = 'data/'\n",
    "        \n",
    "        file_list = os.listdir(filePath)\n",
    "        \n",
    "        for file_name in file_list:\n",
    "            test_list = glob.glob(filePath + file_name+\"/*\") \n",
    "            for image in test_list:\n",
    "                print(image)\n",
    "                lowlight(image)\n"
   ]
  },
  {
   "cell_type": "code",
   "execution_count": null,
   "metadata": {},
   "outputs": [],
   "source": []
  }
 ],
 "metadata": {
  "kernelspec": {
   "display_name": "Python 3",
   "language": "python",
   "name": "python3"
  },
  "language_info": {
   "codemirror_mode": {
    "name": "ipython",
    "version": 3
   },
   "file_extension": ".py",
   "mimetype": "text/x-python",
   "name": "python",
   "nbconvert_exporter": "python",
   "pygments_lexer": "ipython3",
   "version": "3.6.9"
  }
 },
 "nbformat": 4,
 "nbformat_minor": 4
}
